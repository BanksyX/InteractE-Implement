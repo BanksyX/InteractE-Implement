{
 "cells": [
  {
   "cell_type": "markdown",
   "metadata": {},
   "source": [
    "1. 这个pprint package可以让print更加美观"
   ]
  },
  {
   "cell_type": "code",
   "execution_count": null,
   "metadata": {},
   "outputs": [],
   "source": [
    "from pprint import pprint"
   ]
  },
  {
   "cell_type": "markdown",
   "metadata": {},
   "source": [
    "2. NotImplementedError\n",
    "* 常用于OOP中继承与实现的情况\n",
    "* 可以在父类中定义一个接口并且写入 raise NotImplementedError，如果子类进行了继承但是没有实现这个接口，就会产生Error"
   ]
  },
  {
   "cell_type": "code",
   "execution_count": 1,
   "metadata": {},
   "outputs": [
    {
     "ename": "NotImplementedError",
     "evalue": "testImplm function not implement!",
     "output_type": "error",
     "traceback": [
      "\u001b[0;31m---------------------------------------------------------------------------\u001b[0m",
      "\u001b[0;31mNotImplementedError\u001b[0m                       Traceback (most recent call last)",
      "\u001b[0;32m/tmp/ipykernel_9631/716938680.py\u001b[0m in \u001b[0;36m<module>\u001b[0;34m\u001b[0m\n\u001b[1;32m      6\u001b[0m \u001b[0;34m\u001b[0m\u001b[0m\n\u001b[1;32m      7\u001b[0m \u001b[0msub\u001b[0m \u001b[0;34m=\u001b[0m \u001b[0msub_class\u001b[0m\u001b[0;34m(\u001b[0m\u001b[0;34m)\u001b[0m\u001b[0;34m\u001b[0m\u001b[0;34m\u001b[0m\u001b[0m\n\u001b[0;32m----> 8\u001b[0;31m \u001b[0msub\u001b[0m\u001b[0;34m.\u001b[0m\u001b[0mtestImplm\u001b[0m\u001b[0;34m(\u001b[0m\u001b[0;34m)\u001b[0m\u001b[0;34m\u001b[0m\u001b[0;34m\u001b[0m\u001b[0m\n\u001b[0m",
      "\u001b[0;32m/tmp/ipykernel_9631/716938680.py\u001b[0m in \u001b[0;36mtestImplm\u001b[0;34m(self)\u001b[0m\n\u001b[1;32m      1\u001b[0m \u001b[0;32mclass\u001b[0m \u001b[0mfather_class\u001b[0m\u001b[0;34m(\u001b[0m\u001b[0;34m)\u001b[0m\u001b[0;34m:\u001b[0m\u001b[0;34m\u001b[0m\u001b[0;34m\u001b[0m\u001b[0m\n\u001b[1;32m      2\u001b[0m     \u001b[0;32mdef\u001b[0m \u001b[0mtestImplm\u001b[0m\u001b[0;34m(\u001b[0m\u001b[0mself\u001b[0m\u001b[0;34m)\u001b[0m\u001b[0;34m:\u001b[0m\u001b[0;34m\u001b[0m\u001b[0;34m\u001b[0m\u001b[0m\n\u001b[0;32m----> 3\u001b[0;31m         \u001b[0;32mraise\u001b[0m \u001b[0mNotImplementedError\u001b[0m\u001b[0;34m(\u001b[0m\u001b[0;34m'testImplm function not implement!'\u001b[0m\u001b[0;34m)\u001b[0m\u001b[0;34m\u001b[0m\u001b[0;34m\u001b[0m\u001b[0m\n\u001b[0m\u001b[1;32m      4\u001b[0m \u001b[0;32mclass\u001b[0m \u001b[0msub_class\u001b[0m\u001b[0;34m(\u001b[0m\u001b[0mfather_class\u001b[0m\u001b[0;34m)\u001b[0m\u001b[0;34m:\u001b[0m\u001b[0;34m\u001b[0m\u001b[0;34m\u001b[0m\u001b[0m\n\u001b[1;32m      5\u001b[0m     \u001b[0;32mpass\u001b[0m\u001b[0;34m\u001b[0m\u001b[0;34m\u001b[0m\u001b[0m\n",
      "\u001b[0;31mNotImplementedError\u001b[0m: testImplm function not implement!"
     ]
    }
   ],
   "source": [
    "class father_class():\n",
    "    def testImplm(self):\n",
    "        raise NotImplementedError('testImplm function not implement!')\n",
    "class sub_class(father_class):\n",
    "    pass\n",
    "\n",
    "sub = sub_class()\n",
    "sub.testImplm()"
   ]
  },
  {
   "cell_type": "markdown",
   "metadata": {},
   "source": [
    "3. 这里的ordered_set似乎很受用，看见过几次了\n",
    "* 这是一种可变数据结构，是列表和集合的混合体，每一个条目都有索引号可以查询\n",
    "* ordered_set 里面元素不会重复，都只会记录一次，并且索引号是根据第一次出现的位置定的"
   ]
  },
  {
   "cell_type": "code",
   "execution_count": 3,
   "metadata": {},
   "outputs": [
    {
     "name": "stdout",
     "output_type": "stream",
     "text": [
      "OrderedSet(['H', 'e', 'l', 'o', ',', ' ', 'W', 'r', 'd', '!'])\n"
     ]
    }
   ],
   "source": [
    "from ordered_set import OrderedSet\n",
    "\n",
    "letters = OrderedSet('Hello, World!')\n",
    "print(letters)"
   ]
  },
  {
   "cell_type": "code",
   "execution_count": 10,
   "metadata": {},
   "outputs": [
    {
     "name": "stdout",
     "output_type": "stream",
     "text": [
      "e\n",
      "OrderedSet(['H', 'e', 'l', 'o', ',', ' ', 'W', 'r', 'd', '!', 'u'])\n",
      "11\n"
     ]
    }
   ],
   "source": [
    "print(letters[1])\n",
    "letters.add('d')\n",
    "letters.add('u')\n",
    "print(letters)\n",
    "print(len(letters))"
   ]
  },
  {
   "cell_type": "markdown",
   "metadata": {},
   "source": [
    "4. str.strip()回顾一下\n",
    "* string.strip方法用于移除字符串头尾部的指定字符，或者默认是去除空格或者换行符\n",
    "* string.strip()只能去除字符串头尾的符号，不能去掉中间的符号\n",
    "* string.strip([chars]) chars为移除字符序列"
   ]
  },
  {
   "cell_type": "code",
   "execution_count": 14,
   "metadata": {},
   "outputs": [
    {
     "name": "stdout",
     "output_type": "stream",
     "text": [
      "0123234sdf\n",
      "   0123234sdf \n",
      "\n"
     ]
    }
   ],
   "source": [
    "str1 = '   0123234sdf \\n'\n",
    "print(str1.strip())\n",
    "print(str1)"
   ]
  },
  {
   "cell_type": "code",
   "execution_count": 15,
   "metadata": {},
   "outputs": [
    {
     "name": "stdout",
     "output_type": "stream",
     "text": [
      "3214dfgdg\n",
      "00003214dfgdg0000\n"
     ]
    }
   ],
   "source": [
    "str2 = '00003214dfgdg0000'\n",
    "print(str2.strip('0'))\n",
    "print(str2)"
   ]
  },
  {
   "cell_type": "markdown",
   "metadata": {},
   "source": [
    "5. python split方法\n",
    "* 将一个字符串拆分成一个列表，每个词形成一个列表项\n",
    "* 可以指定分隔符，默认分隔符是空白字符 string.split(seperator)"
   ]
  },
  {
   "cell_type": "code",
   "execution_count": 19,
   "metadata": {},
   "outputs": [
    {
     "name": "stdout",
     "output_type": "stream",
     "text": [
      "['hello world, welcome to uestc    from BanksyX    03-29-2022']\n",
      "['hello', 'world,', 'welcome', 'to', 'uestc', 'from', 'BanksyX', '03-29-2022']\n"
     ]
    }
   ],
   "source": [
    "txt = 'hello world, welcome to uestc    from BanksyX    03-29-2022'\n",
    "print(txt.split('\\t'))  # \\t 是指一个tab，四个空格\n",
    "print(txt.split())"
   ]
  },
  {
   "cell_type": "code",
   "execution_count": 27,
   "metadata": {},
   "outputs": [
    {
     "name": "stdout",
     "output_type": "stream",
     "text": [
      "<map object at 0x7f7e45d49590>\n"
     ]
    }
   ],
   "source": [
    "str3 = '         This Is A real Beautiful Thing!    '\n",
    "str3 = map(str.lower, str3.strip().split('\\t'))\n",
    "print(str3)\n"
   ]
  },
  {
   "cell_type": "markdown",
   "metadata": {},
   "source": [
    "5. 关于 collections 里面的defaultdict class\n",
    "* 这个defaultdict 主要是用于产生一个带默认值的dict，在查询key不存在的情况下，也能正常返回值\n",
    "* defaultdict(function)内部应该传入一个函数作为参数，这个函数就是当查询key不存在的情况下处理默认返回值的函数"
   ]
  },
  {
   "cell_type": "code",
   "execution_count": 28,
   "metadata": {},
   "outputs": [
    {
     "name": "stdout",
     "output_type": "stream",
     "text": [
      "1\n",
      "0\n"
     ]
    }
   ],
   "source": [
    "from collections import defaultdict as ddict  \n",
    "d = ddict(int)  # 这里传入了一个int函数作为key缺失时默认返回值来源\n",
    "d['k'] = 1\n",
    "print(d['k'])\n",
    "print(d['kk'])"
   ]
  },
  {
   "cell_type": "code",
   "execution_count": 34,
   "metadata": {},
   "outputs": [
    {
     "name": "stdout",
     "output_type": "stream",
     "text": [
      "Not found the input key\n"
     ]
    }
   ],
   "source": [
    "def fun():\n",
    "    return 'Not found the input key'\n",
    "d1 = ddict(fun)\n",
    "print(d1['fdsfag'])\n",
    "d2 = ddict(list)"
   ]
  },
  {
   "cell_type": "code",
   "execution_count": null,
   "metadata": {},
   "outputs": [],
   "source": []
  }
 ],
 "metadata": {
  "interpreter": {
   "hash": "9b0f2dacd336d7b9f9478adc2ac65abdc71bebc0e71444d379cad982cf07e1c2"
  },
  "kernelspec": {
   "display_name": "Python 3.7.10 ('zhu')",
   "language": "python",
   "name": "python3"
  },
  "language_info": {
   "codemirror_mode": {
    "name": "ipython",
    "version": 3
   },
   "file_extension": ".py",
   "mimetype": "text/x-python",
   "name": "python",
   "nbconvert_exporter": "python",
   "pygments_lexer": "ipython3",
   "version": "3.7.10"
  },
  "orig_nbformat": 4
 },
 "nbformat": 4,
 "nbformat_minor": 2
}
